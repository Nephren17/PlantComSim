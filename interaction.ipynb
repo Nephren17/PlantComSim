{
 "cells": [
  {
   "cell_type": "code",
   "execution_count": 1,
   "metadata": {},
   "outputs": [],
   "source": [
    "class Climate:\n",
    "    def __init__(self) -> None:\n",
    "        self.tem_month=0\n",
    "        self.tem_day=0\n",
    "        self.rain=0\n",
    "        self.moist_month=0\n",
    "        self.moist_day=0\n",
    "        self.light_month=0\n",
    "        self.diurnal=0\n",
    "        pass\n"
   ]
  },
  {
   "cell_type": "code",
   "execution_count": null,
   "metadata": {},
   "outputs": [],
   "source": [
    "class Plant:\n",
    "    def __init__(self,x,y,r=3) -> None:\n",
    "        self.x = x\n",
    "        self.y = y\n",
    "        self.r = r\n",
    "        self.name = \"\"\n",
    "        self.age=0\n",
    "        self.t_min=0\n",
    "        self.t_max=0\n",
    "        self.h_min=0\n",
    "        self.h_max=0\n",
    "        self.l_min=0\n",
    "        self.l_max=0\n",
    "        self.life=0\n",
    "        self.water=0\n",
    "        self.water_max=0\n",
    "        self.repro_period=0\n",
    "        self.repro_eff=0\n",
    "        self.color=\"\"\n",
    "        pass"
   ]
  },
  {
   "cell_type": "code",
   "execution_count": 8,
   "metadata": {},
   "outputs": [],
   "source": [
    "class Section:\n",
    "    def __init__(self,x,y) -> None:\n",
    "        self.x=x\n",
    "        self.y=y\n",
    "        self.hum=100\n",
    "        self.sil_hum=100\n",
    "        self.tem=0\n",
    "        self.nut=100\n",
    "        self.plants=[]\n",
    "        self.density=0\n",
    "        \n",
    "    def get_density(self):\n",
    "        return self.plants.__len__() \n",
    "\n",
    "    def add_plant(self,plant):      \n",
    "        if (plant.x >= self.x*10 and plant.x < self.x*10 + 10 and plant.y >= self.y*10 and plant.y < self.y*10 + 10):\n",
    "            self.plants.append(plant)\n",
    "        self.density=self.density + 1\n",
    "\n",
    "    def add_plants(self,plants):         #筛选并将符合条件的植物放入网格\n",
    "        for plant in plants:\n",
    "            self.add_plant(plant)\n",
    "\n",
    "    def len(self):\n",
    "        return self.plants.__len__()\n",
    "\n",
    "    def print(self):\n",
    "        if self.len() == 0:\n",
    "            print(\"Sec(\" + str(self.x) + \",\"+ str(self.y) + \") is empty\") \n",
    "            return\n",
    "        print(\"In Sec(\" + str(self.x) + \",\"+ str(self.y) + \")\")\n",
    "        for plant in self.plants:\n",
    "            print(plant.name +\" \" + str(plant.x) + \" \" + str(plant.y) + \";\")"
   ]
  },
  {
   "cell_type": "code",
   "execution_count": 10,
   "metadata": {},
   "outputs": [],
   "source": [
    "import math\n",
    "from typing import List\n",
    "# Iterate the status of Plant\n",
    "\n",
    "# Plant(k+1) = Plant(k) + Local->Plant + Plant->Plant\n",
    "\n",
    "# Influence on Plants' health point\n",
    "\n",
    "def HealthPointIteration(plant:Plant, section:Section, surrounding_Plants:List[Plant]):\n",
    "    \n",
    "    # Soil Nutrient\n",
    "    HP = plant.life + 0.1 * section.nut\n",
    "    \n",
    "    # Local Temperature\n",
    "    if plant.t_min > section.tem:\n",
    "        HP = HP - 40 * (plant.t_min - section.tem)\n",
    "    elif plant.t_max < section.tem:\n",
    "        HP = HP + 40 * (plant.t_max - section.tem)\n",
    "\n",
    "    # Water Point\n",
    "    if plant.water < 0.6 * plant.water_max:\n",
    "        HP = HP *(1 - 0.5 * (0.6 * plant.water_max - plant.water) / plant.water_max )\n",
    "\n",
    "    # Plant to Plat Interaction\n",
    "    for sp in surrounding_Plants:\n",
    "        if sp.name == \"Argy\" and plant.name != \"Argy\":\n",
    "            HP = HP - 20\n",
    "\n",
    "    # Environmental damage\n",
    "    env_dam_reduce = 0\n",
    "    for sp in surrounding_Plants:\n",
    "        if sp.name == \"Cactus\" or sp.name == \"Thorn\":\n",
    "            env_dam_reduce = env_dam_reduce + 1\n",
    "    HP = HP - max (100, 0.1 * HP * (1-(math.atan2(env_dam_reduce)*2 / math.pi)*0.5))\n",
    "\n",
    "    return HP"
   ]
  },
  {
   "cell_type": "code",
   "execution_count": 11,
   "metadata": {},
   "outputs": [],
   "source": [
    "def WaterPointIteration(plant:Plant, section:Section):\n",
    "    \n",
    "    # Soil Humidity and Surrounding Humidity\n",
    "    WP = plant.water + max (0.5 * section.sil_hum) + 0.03 * section.hum\n",
    "\n",
    "    # Local Temperature\n",
    "    WP = WP - 4 * max(0, section.tem)\n",
    "\n",
    "    return WP"
   ]
  },
  {
   "cell_type": "code",
   "execution_count": null,
   "metadata": {},
   "outputs": [],
   "source": [
    "# Local(k+1) = Local(k) + Climate->Local + Plant->Local\n",
    "\n",
    "def SoilHumidityIteration(secion:Section, climate:Climate, plant:Plant):\n",
    "    \n",
    "    # Climate Precipitation\n",
    "    SH = section.sil_hum + climate.rain\n",
    "\n",
    "    # Reproduction\n",
    "\n",
    "    # Plant Density\n",
    "    SH = SH - section.density * 10\n",
    "\n",
    "    # Climate Temperature\n",
    "    SH = SH - 4 * max(0, climate.tem)\n",
    "\n",
    "    # Plant Water Point\n",
    "    SH = SH - \n",
    "\n",
    "    # Plant Function\n",
    "\n",
    "\n",
    "    return SH\n"
   ]
  }
 ],
 "metadata": {
  "kernelspec": {
   "display_name": "Python 3.10.8",
   "language": "python",
   "name": "python3"
  },
  "language_info": {
   "codemirror_mode": {
    "name": "ipython",
    "version": 3
   },
   "file_extension": ".py",
   "mimetype": "text/x-python",
   "name": "python",
   "nbconvert_exporter": "python",
   "pygments_lexer": "ipython3",
   "version": "3.10.8"
  },
  "orig_nbformat": 4,
  "vscode": {
   "interpreter": {
    "hash": "c8a4620cc10eb11ea092760f4dd05dbabf6d49b8d80a397a6df1a9af1e3602fa"
   }
  }
 },
 "nbformat": 4,
 "nbformat_minor": 2
}

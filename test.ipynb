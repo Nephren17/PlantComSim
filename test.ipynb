{
 "cells": [
  {
   "cell_type": "code",
   "execution_count": 19,
   "metadata": {},
   "outputs": [],
   "source": [
    "import random\n",
    "from scipy.spatial import KDTree\n",
    "\n",
    "\n",
    "#这是一个在1*1的正方形里随机生成点的函数\n",
    "def generate_points(n, radius):\n",
    "    # 随机生成第一个点\n",
    "    x = random.uniform(radius, 1 - radius)\n",
    "    y = random.uniform(radius, 1 - radius)\n",
    "    points = [(x, y)]\n",
    "    \n",
    "    while len(points) < n:\n",
    "        # 随机生成下一个点的位置\n",
    "        x = random.uniform(0, 1)\n",
    "        y = random.uniform(0, 1)\n",
    "        point = (x, y)\n",
    "        \n",
    "        # 计算与最近的点的距离\n",
    "        kdtree = KDTree(points)\n",
    "        dist, _ = kdtree.query(point)\n",
    "        \n",
    "        # 如果距离太小，则重新生成点\n",
    "        if dist < radius:\n",
    "            continue\n",
    "        \n",
    "        # 将点添加到列表中\n",
    "        points.append(point)\n",
    "    \n",
    "    return points\n"
   ]
  },
  {
   "cell_type": "code",
   "execution_count": 20,
   "metadata": {},
   "outputs": [],
   "source": [
    "points = generate_points(50, 0.1)\n"
   ]
  },
  {
   "cell_type": "code",
   "execution_count": 21,
   "metadata": {},
   "outputs": [
    {
     "data": {
      "image/png": "[encoded data removed]",
      "text/plain": [
       "<Figure size 640x480 with 1 Axes>"
      ]
     },
     "metadata": {},
     "output_type": "display_data"
    }
   ],
   "source": [
    "import numpy as np\n",
    "import matplotlib.pyplot as plt\n",
    "\n",
    "# 生成 30 个随机点\n",
    "num_points = 30\n",
    "points = np.random.rand(num_points, 2)\n",
    "\n",
    "# 可视化散点\n",
    "fig, ax = plt.subplots()\n",
    "ax.scatter(points[:,0], points[:,1])\n",
    "\n",
    "# 设置坐标轴范围\n",
    "ax.set_xlim([0, 1])\n",
    "ax.set_ylim([0, 1])\n",
    "\n",
    "plt.show()\n"
   ]
  },
  {
   "cell_type": "code",
   "execution_count": null,
   "metadata": {},
   "outputs": [],
   "source": []
  }
 ],
 "metadata": {
  "kernelspec": {
   "display_name": "Python 3.10.8",
   "language": "python",
   "name": "python3"
  },
  "language_info": {
   "codemirror_mode": {
    "name": "ipython",
    "version": 3
   },
   "file_extension": ".py",
   "mimetype": "text/x-python",
   "name": "python",
   "nbconvert_exporter": "python",
   "pygments_lexer": "ipython3",
   "version": "3.10.8"
  },
  "orig_nbformat": 4,
  "vscode": {
   "interpreter": {
    "hash": "c8a4620cc10eb11ea092760f4dd05dbabf6d49b8d80a397a6df1a9af1e3602fa"
   }
  }
 },
 "nbformat": 4,
 "nbformat_minor": 2
}

{
 "cells": [
  {
   "cell_type": "code",
   "execution_count": 2,
   "metadata": {},
   "outputs": [],
   "source": [
    "import random\n",
    "from scipy.spatial import KDTree\n",
    "\n",
    "\n",
    "#这是一个在1*1的正方形里随机生成点的函数\n",
    "def generate_points(n, radius):\n",
    "    # 随机生成第一个点\n",
    "    x = random.uniform(radius, 1 - radius)\n",
    "    y = random.uniform(radius, 1 - radius)\n",
    "    points = [(x, y)]\n",
    "    \n",
    "    while len(points) < n:\n",
    "        # 随机生成下一个点的位置\n",
    "        x = random.uniform(0, 1)\n",
    "        y = random.uniform(0, 1)\n",
    "        point = (x, y)\n",
    "        \n",
    "        # 计算与最近的点的距离\n",
    "        kdtree = KDTree(points)\n",
    "        dist, _ = kdtree.query(point)\n",
    "        \n",
    "        # 如果距离太小，则重新生成点\n",
    "        if dist < radius:\n",
    "            continue\n",
    "        \n",
    "        # 将点添加到列表中\n",
    "        points.append(point)\n",
    "    \n",
    "    return points\n"
   ]
  },
  {
   "cell_type": "code",
   "execution_count": 3,
   "metadata": {},
   "outputs": [],
   "source": [
    "points = generate_points(50, 0.1)\n"
   ]
  },
  {
   "cell_type": "code",
   "execution_count": 4,
   "metadata": {},
   "outputs": [
    {
     "data": {
      "image/png": "[encoded data removed]",
      "text/plain": [
       "<Figure size 640x480 with 1 Axes>"
      ]
     },
     "metadata": {},
     "output_type": "display_data"
    }
   ],
   "source": [
    "import numpy as np\n",
    "import matplotlib.pyplot as plt\n",
    "\n",
    "# 生成 30 个随机点\n",
    "num_points = 30\n",
    "points = np.random.rand(num_points, 2)\n",
    "\n",
    "# 可视化散点\n",
    "fig, ax = plt.subplots()\n",
    "ax.scatter(points[:,0], points[:,1])\n",
    "\n",
    "# 设置坐标轴范围\n",
    "ax.set_xlim([0, 1])\n",
    "ax.set_ylim([0, 1])\n",
    "\n",
    "plt.show()\n"
   ]
  },
  {
   "cell_type": "code",
   "execution_count": 3,
   "metadata": {},
   "outputs": [
    {
     "name": "stdout",
     "output_type": "stream",
     "text": [
      "Hello, my name is evans, I'm 19 years old.\n"
     ]
    }
   ],
   "source": [
    "class Person:\n",
    "    def __init__(self, name, age):\n",
    "        self.name = name\n",
    "        self.age = age\n",
    "    \n",
    "    def say_hello(self):\n",
    "        print(f\"Hello, my name is {self.name}, I'm {self.age} years old.\")\n",
    "\n",
    "person = Person(\"evans\",19)\n",
    "person.say_hello()"
   ]
  },
  {
   "cell_type": "code",
   "execution_count": 8,
   "metadata": {},
   "outputs": [
    {
     "name": "stdout",
     "output_type": "stream",
     "text": [
      "Unexpected exception formatting exception. Falling back to standard exception\n"
     ]
    },
    {
     "name": "stderr",
     "output_type": "stream",
     "text": [
      "Traceback (most recent call last):\n",
      "  File \"/home/evans/.local/lib/python3.10/site-packages/IPython/core/interactiveshell.py\", line 3378, in run_code\n",
      "    exec(code_obj, self.user_global_ns, self.user_ns)\n",
      "  File \"/tmp/ipykernel_1440/3184421779.py\", line 21, in <module>\n",
      "    make_sound(a)\n",
      "  File \"/tmp/ipykernel_1440/3184421779.py\", line 15, in make_sound\n",
      "    animal.sound()\n",
      "AttributeError: 'list' object has no attribute 'sound'\n",
      "\n",
      "During handling of the above exception, another exception occurred:\n",
      "\n",
      "Traceback (most recent call last):\n",
      "  File \"/home/evans/.local/lib/python3.10/site-packages/IPython/core/interactiveshell.py\", line 1997, in showtraceback\n",
      "    stb = self.InteractiveTB.structured_traceback(\n",
      "  File \"/home/evans/.local/lib/python3.10/site-packages/IPython/core/ultratb.py\", line 1112, in structured_traceback\n",
      "    return FormattedTB.structured_traceback(\n",
      "  File \"/home/evans/.local/lib/python3.10/site-packages/IPython/core/ultratb.py\", line 1006, in structured_traceback\n",
      "    return VerboseTB.structured_traceback(\n",
      "  File \"/home/evans/.local/lib/python3.10/site-packages/IPython/core/ultratb.py\", line 859, in structured_traceback\n",
      "    formatted_exception = self.format_exception_as_a_whole(etype, evalue, etb, number_of_lines_of_context,\n",
      "  File \"/home/evans/.local/lib/python3.10/site-packages/IPython/core/ultratb.py\", line 793, in format_exception_as_a_whole\n",
      "    self.get_records(etb, number_of_lines_of_context, tb_offset) if etb else []\n",
      "  File \"/home/evans/.local/lib/python3.10/site-packages/IPython/core/ultratb.py\", line 848, in get_records\n",
      "    return list(stack_data.FrameInfo.stack_data(etb, options=options))[tb_offset:]\n",
      "  File \"/home/evans/.local/lib/python3.10/site-packages/stack_data/core.py\", line 597, in stack_data\n",
      "    yield from collapse_repeated(\n",
      "  File \"/home/evans/.local/lib/python3.10/site-packages/stack_data/utils.py\", line 84, in collapse_repeated\n",
      "    yield from map(mapper, original_group)\n",
      "  File \"/home/evans/.local/lib/python3.10/site-packages/stack_data/core.py\", line 587, in mapper\n",
      "    return cls(f, options)\n",
      "  File \"/home/evans/.local/lib/python3.10/site-packages/stack_data/core.py\", line 551, in __init__\n",
      "    self.executing = Source.executing(frame_or_tb)\n",
      "  File \"/home/evans/.local/lib/python3.10/site-packages/executing/executing.py\", line 323, in executing\n",
      "    source = cls.for_frame(frame)\n",
      "  File \"/home/evans/.local/lib/python3.10/site-packages/executing/executing.py\", line 247, in for_frame\n",
      "    return cls.for_filename(frame.f_code.co_filename, frame.f_globals or {}, use_cache)\n",
      "  File \"/home/evans/.local/lib/python3.10/site-packages/executing/executing.py\", line 275, in for_filename\n",
      "    return cls._for_filename_and_lines(filename, lines)\n",
      "  File \"/home/evans/.local/lib/python3.10/site-packages/executing/executing.py\", line 285, in _for_filename_and_lines\n",
      "    result = source_cache[(filename, lines)] = cls(filename, lines)\n",
      "  File \"/home/evans/.local/lib/python3.10/site-packages/stack_data/core.py\", line 97, in __init__\n",
      "    self.asttokens()\n",
      "  File \"/home/evans/.local/lib/python3.10/site-packages/executing/executing.py\", line 387, in asttokens\n",
      "    return ASTTokens(\n",
      "  File \"/home/evans/.local/lib/python3.10/site-packages/asttokens/asttokens.py\", line 61, in __init__\n",
      "    source_text = six.ensure_text(source_text)\n",
      "AttributeError: module 'six' has no attribute 'ensure_text'\n"
     ]
    }
   ],
   "source": [
    "class Animal:\n",
    "    def sound(self):\n",
    "        print(\"Wow\")\n",
    "        pass\n",
    "\n",
    "class Dog(Animal):\n",
    "    def sound(self):\n",
    "        print(\"Bark\")\n",
    "\n",
    "class Cat(Animal):\n",
    "    def sound(self):\n",
    "        print(\"Meow\")\n",
    "\n",
    "def make_sound(animal):\n",
    "    animal.sound()\n",
    "\n",
    "dog = Dog()\n",
    "cat = Cat()\n",
    "a = [dog,cat]\n",
    "for animal in a:\n",
    "    make_sound(a)\n",
    "#make_sound(dog)  # 输出 \"Bark\"\n",
    "#make_sound(cat)  # 输出 \"Meow\"\n"
   ]
  }
 ],
 "metadata": {
  "kernelspec": {
   "display_name": "Python 3",
   "language": "python",
   "name": "python3"
  },
  "language_info": {
   "codemirror_mode": {
    "name": "ipython",
    "version": 3
   },
   "file_extension": ".py",
   "mimetype": "text/x-python",
   "name": "python",
   "nbconvert_exporter": "python",
   "pygments_lexer": "ipython3",
   "version": "3.10.4"
  },
  "orig_nbformat": 4,
  "vscode": {
   "interpreter": {
    "hash": "31f2aee4e71d21fbe5cf8b01ff0e069b9275f58929596ceb00d14d90e3e16cd6"
   }
  }
 },
 "nbformat": 4,
 "nbformat_minor": 2
}
